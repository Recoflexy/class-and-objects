{
 "cells": [
  {
   "cell_type": "markdown",
   "id": "b13df6f4",
   "metadata": {},
   "source": [
    "# question 1"
   ]
  },
  {
   "cell_type": "code",
   "execution_count": 46,
   "id": "e8982eb3",
   "metadata": {},
   "outputs": [
    {
     "name": "stdout",
     "output_type": "stream",
     "text": [
      "(1,2,3)\n"
     ]
    }
   ],
   "source": [
    "class Point3D:\n",
    "    def __init__(self,x,y,z):\n",
    "        self.x = x \n",
    "        self.y = y\n",
    "        self.z = z\n",
    "    \n",
    "    def __repr__(self):\n",
    "        return f\"({self.x},{self.y},{self.z})\"\n",
    "my_point = Point3D(1,2,3)\n",
    "print (my_point)\n",
    "        "
   ]
  },
  {
   "cell_type": "markdown",
   "id": "e748335f",
   "metadata": {},
   "source": [
    "# question2"
   ]
  },
  {
   "cell_type": "code",
   "execution_count": 72,
   "id": "e2c8eefb",
   "metadata": {},
   "outputs": [
    {
     "name": "stdout",
     "output_type": "stream",
     "text": [
      "area is 12 and the perimeter is 14\n"
     ]
    }
   ],
   "source": [
    "class Rectangle: # creation de la classe\n",
    "    def __init__(self,long,large): # constructeur\n",
    "        self.long = long\n",
    "        self.large = large\n",
    "        \n",
    "    def area(self):\n",
    "        return self.long*self.large\n",
    "    \n",
    "    def perimeter(self):\n",
    "        perim = 2*(self.long+self.large)\n",
    "        return perim\n",
    "# fin de la creation de la classe\n",
    "\n",
    "rec = Rectangle(3,4) # instantiation (creation de l'objet)\n",
    "\n",
    "ar = rec.area() # l'appel à la fonction area\n",
    "per = rec.perimeter() # L'appel à la fonction perimeter\n",
    "\n",
    "print(f\"area is {ar} and the perimeter is {per}\") # affichage\n",
    "\n",
    "\n"
   ]
  },
  {
   "cell_type": "markdown",
   "id": "bf417beb",
   "metadata": {},
   "source": [
    "# question 3"
   ]
  },
  {
   "cell_type": "code",
   "execution_count": 74,
   "id": "94a97a82",
   "metadata": {},
   "outputs": [
    {
     "data": {
      "text/plain": [
       "28.274333882308138"
      ]
     },
     "execution_count": 74,
     "metadata": {},
     "output_type": "execute_result"
    }
   ],
   "source": [
    "import math\n",
    "class circle:\n",
    "    def __init__(self,O,R):\n",
    "        self.O = O\n",
    "        self.R = R\n",
    "    \n",
    "    def area(self):\n",
    "        return self.R*self.R*math.pi\n",
    "    \n",
    "    def perimetr(self):\n",
    "        return self.2*math.pi\n",
    "\n",
    "    \n",
    "c = circle(0,3)\n",
    "\n",
    "c.area()"
   ]
  },
  {
   "cell_type": "markdown",
   "id": "8a37f5b3",
   "metadata": {},
   "source": [
    "# question 4"
   ]
  },
  {
   "cell_type": "code",
   "execution_count": 3,
   "id": "d55eb756",
   "metadata": {},
   "outputs": [
    {
     "ename": "AttributeError",
     "evalue": "'Bank' object has no attribute 'der'",
     "output_type": "error",
     "traceback": [
      "\u001b[1;31m---------------------------------------------------------------------------\u001b[0m",
      "\u001b[1;31mAttributeError\u001b[0m                            Traceback (most recent call last)",
      "\u001b[1;32m~\\AppData\\Local\\Temp\\ipykernel_14500\\2244343933.py\u001b[0m in \u001b[0;36m<module>\u001b[1;34m\u001b[0m\n\u001b[0;32m      9\u001b[0m \u001b[0mder\u001b[0m \u001b[1;33m=\u001b[0m \u001b[0mBank\u001b[0m\u001b[1;33m(\u001b[0m\u001b[1;36m3\u001b[0m\u001b[1;33m,\u001b[0m\u001b[1;36m4\u001b[0m\u001b[1;33m)\u001b[0m\u001b[1;33m\u001b[0m\u001b[1;33m\u001b[0m\u001b[0m\n\u001b[0;32m     10\u001b[0m \u001b[1;33m\u001b[0m\u001b[0m\n\u001b[1;32m---> 11\u001b[1;33m \u001b[0mder\u001b[0m\u001b[1;33m.\u001b[0m\u001b[0mder\u001b[0m\u001b[1;33m(\u001b[0m\u001b[1;33m)\u001b[0m\u001b[1;33m\u001b[0m\u001b[1;33m\u001b[0m\u001b[0m\n\u001b[0m",
      "\u001b[1;31mAttributeError\u001b[0m: 'Bank' object has no attribute 'der'"
     ]
    }
   ],
   "source": [
    "class Bank:\n",
    "    def __init__(self,dep,withdr):\n",
    "        self.dep = dep\n",
    "        self.withdr = withdr\n",
    "        \n",
    "    def dep (self):\n",
    "         return self.dep*self.withdr\n",
    "        \n",
    "der = Bank(3,4)\n",
    "\n",
    "der.der()"
   ]
  },
  {
   "cell_type": "code",
   "execution_count": null,
   "id": "7b8c593c",
   "metadata": {},
   "outputs": [],
   "source": []
  }
 ],
 "metadata": {
  "kernelspec": {
   "display_name": "Python 3 (ipykernel)",
   "language": "python",
   "name": "python3"
  },
  "language_info": {
   "codemirror_mode": {
    "name": "ipython",
    "version": 3
   },
   "file_extension": ".py",
   "mimetype": "text/x-python",
   "name": "python",
   "nbconvert_exporter": "python",
   "pygments_lexer": "ipython3",
   "version": "3.9.13"
  }
 },
 "nbformat": 4,
 "nbformat_minor": 5
}
